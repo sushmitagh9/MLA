{
  "cells": [
    {
      "cell_type": "markdown",
      "metadata": {
        "id": "view-in-github",
        "colab_type": "text"
      },
      "source": [
        "<a href=\"https://colab.research.google.com/github/sushmitagh9/MLA/blob/main/Pruning_a_Neural_Network.ipynb\" target=\"_parent\"><img src=\"https://colab.research.google.com/assets/colab-badge.svg\" alt=\"Open In Colab\"/></a>"
      ]
    },
    {
      "cell_type": "markdown",
      "metadata": {
        "id": "7sMxsvYauK56"
      },
      "source": [
        "# 1. What is Pruning?"
      ]
    },
    {
      "cell_type": "code",
      "execution_count": null,
      "metadata": {
        "id": "QNkfrYH0_Vhq"
      },
      "outputs": [],
      "source": []
    },
    {
      "cell_type": "markdown",
      "metadata": {
        "id": "TMzDPrhQuK6E"
      },
      "source": [
        "Pruning is a way to reduce the size of a neural network by using compression. After a network is trained, it's weights are ranked according to their importance. A percentage of the weights are pruned away (as in set to zero), in accordance with their importance. We test the pruned model on a test set and if the performance still holds out, we prune more.\n",
        "\n",
        "We keep pruning until the performance remains satisfactory. The aim is to find the level of pruining that provides us with an acceptable compromise in performance for a decent reduction in the network size.\n",
        "\n",
        "There are two basic approaches of Pruning:\n",
        "\n",
        "* Weight Pruning\n",
        "\n",
        "Here the individual weights are ranked are ranked according to their magnitudes and the ones with small values are deemed less important.\n",
        "\n",
        "* Neuron pruining\n",
        "\n",
        "Here we rank entire neurons (units) according to their [L2 norm](https://en.wikipedia.org/wiki/Norm_(mathematics). The weights accociated with any neuron exist as columns in the weight matrices of a network. By setting entire columns to zero, we can essentially prune away entire neurons.\n",
        "\n",
        "Following figure is a good repesentative diagram. Note that a synapse refers to the connection between any two neurons. When a weight is pruned, essentially this connection disappears. And when all weights associated with a neuron are pruned, the neuron gets a sum total input of zero, so basically it does nothing, i.e disappears."
      ]
    },
    {
      "cell_type": "markdown",
      "metadata": {
        "id": "R6Xt_73duK6H"
      },
      "source": [
        "![](https://i.imgur.com/ya0PWGI.jpg)"
      ]
    },
    {
      "cell_type": "markdown",
      "metadata": {
        "id": "59x_SkgPuK6J"
      },
      "source": [
        "# 2. Importing Utilities"
      ]
    },
    {
      "cell_type": "markdown",
      "metadata": {
        "id": "wxzPSZBVuK6J"
      },
      "source": [
        "### Libraries and Modules"
      ]
    },
    {
      "cell_type": "code",
      "execution_count": null,
      "metadata": {
        "_cell_guid": "b1076dfc-b9ad-4769-8c92-a6c4dae69d19",
        "_uuid": "8f2839f25d086af736a60e9eeb907d3b93b6e0e5",
        "id": "tg4OLaiZuK6K"
      },
      "outputs": [],
      "source": [
        "# Input data files are available in the \"../input/\" directory.\n",
        "# For example, running this (by clicking run or pressing Shift+Enter) will list all files under the input directory\n",
        "\n",
        "import os\n",
        "for dirname, _, filenames in os.walk('/kaggle/input'):\n",
        "    for filename in filenames:\n",
        "        print(os.path.join(dirname, filename))\n",
        "\n",
        "# Any results you write to the current directory are saved as output.\n",
        "\n",
        "import pandas as pd\n",
        "\n",
        "import numpy as np\n",
        "\n",
        "from matplotlib import pyplot as plt\n",
        "%matplotlib inline\n",
        "\n",
        "from sklearn.model_selection import train_test_split\n",
        "from tensorflow.keras.datasets import fashion_mnist\n",
        "from tensorflow.keras.utils import to_categorical\n",
        "from tensorflow.keras.models import Sequential\n",
        "from tensorflow.keras.layers import Dense, Activation\n",
        "from tensorflow.keras.optimizers import Adam\n",
        "from tensorflow.keras.callbacks import ModelCheckpoint\n",
        "from tensorflow.keras.models import load_model"
      ]
    },
    {
      "cell_type": "markdown",
      "metadata": {
        "id": "1B1-KGTzuK6N"
      },
      "source": [
        "### Fashion MNIST dataset"
      ]
    },
    {
      "cell_type": "markdown",
      "metadata": {
        "id": "1wSXlfW7uK6O"
      },
      "source": [
        "We will use the Fashion-MNIST dataset and train a vanilla Neural Network on it. Then we will apply various levels of pruning on it, and then test the pruned versions on the test set.\n",
        "\n",
        "Note - Trun on the internet in the settings of the Kernel."
      ]
    },
    {
      "cell_type": "code",
      "execution_count": null,
      "metadata": {
        "colab": {
          "base_uri": "https://localhost:8080/"
        },
        "id": "OavIk6gluK6P",
        "outputId": "f704e525-3672-49a2-8e80-c99c7b3dcaa4"
      },
      "outputs": [
        {
          "name": "stdout",
          "output_type": "stream",
          "text": [
            "Downloading data from https://storage.googleapis.com/tensorflow/tf-keras-datasets/train-labels-idx1-ubyte.gz\n",
            "\u001b[1m29515/29515\u001b[0m \u001b[32m━━━━━━━━━━━━━━━━━━━━\u001b[0m\u001b[37m\u001b[0m \u001b[1m0s\u001b[0m 0us/step\n",
            "Downloading data from https://storage.googleapis.com/tensorflow/tf-keras-datasets/train-images-idx3-ubyte.gz\n",
            "\u001b[1m26421880/26421880\u001b[0m \u001b[32m━━━━━━━━━━━━━━━━━━━━\u001b[0m\u001b[37m\u001b[0m \u001b[1m0s\u001b[0m 0us/step\n",
            "Downloading data from https://storage.googleapis.com/tensorflow/tf-keras-datasets/t10k-labels-idx1-ubyte.gz\n",
            "\u001b[1m5148/5148\u001b[0m \u001b[32m━━━━━━━━━━━━━━━━━━━━\u001b[0m\u001b[37m\u001b[0m \u001b[1m0s\u001b[0m 0us/step\n",
            "Downloading data from https://storage.googleapis.com/tensorflow/tf-keras-datasets/t10k-images-idx3-ubyte.gz\n",
            "\u001b[1m4422102/4422102\u001b[0m \u001b[32m━━━━━━━━━━━━━━━━━━━━\u001b[0m\u001b[37m\u001b[0m \u001b[1m0s\u001b[0m 0us/step\n"
          ]
        }
      ],
      "source": [
        "\n",
        "((X_train, Y_train), (X_test, Y_test)) = fashion_mnist.load_data()"
      ]
    },
    {
      "cell_type": "markdown",
      "metadata": {
        "id": "v-rv7wbAuK6Q"
      },
      "source": [
        "Create a dictionary of all classes in the target"
      ]
    },
    {
      "cell_type": "code",
      "execution_count": null,
      "metadata": {
        "_cell_guid": "79c7e3d0-c299-4dcb-8224-4455121ee9b0",
        "_uuid": "d629ff2d2480ee46fbb7e2d37f6b5fab8052498a",
        "colab": {
          "base_uri": "https://localhost:8080/"
        },
        "id": "byFo4N0HuK6R",
        "outputId": "f1fe0c23-30a9-4adf-ac86-87641cfe9a1f"
      },
      "outputs": [
        {
          "data": {
            "text/plain": [
              "{0: 'T-shirt',\n",
              " 1: 'Trouser',\n",
              " 2: 'Pullover',\n",
              " 3: 'Dress',\n",
              " 4: 'Code',\n",
              " 5: 'Sandal',\n",
              " 6: 'Shirt',\n",
              " 7: 'Sneaker',\n",
              " 8: 'Bag',\n",
              " 9: 'Ankle Boot'}"
            ]
          },
          "execution_count": 3,
          "metadata": {},
          "output_type": "execute_result"
        }
      ],
      "source": [
        "class_labels = pd.Series(['T-shirt', 'Trouser', 'Pullover', 'Dress', 'Code', 'Sandal', 'Shirt', 'Sneaker', 'Bag', 'Ankle Boot'])\n",
        "labels_dict = class_labels.to_dict()\n",
        "labels_dict"
      ]
    },
    {
      "cell_type": "markdown",
      "metadata": {
        "id": "2ld8zmoluK6R"
      },
      "source": [
        "Fetch 5 images at random from the training data, plot them and fetch their corresponding labels from the training targets."
      ]
    },
    {
      "cell_type": "code",
      "execution_count": null,
      "metadata": {
        "colab": {
          "base_uri": "https://localhost:8080/",
          "height": 1000
        },
        "id": "T8B-1dUIuK6S",
        "outputId": "934ac7ae-ea80-40a1-edf2-719d536ed17d"
      },
      "outputs": [
        {
          "data": {
            "image/png": "[encoded data removed]",
            "text/plain": [
              "<Figure size 640x480 with 1 Axes>"
            ]
          },
          "metadata": {},
          "output_type": "display_data"
        },
        {
          "data": {
            "image/png": "[encoded data removed]",
            "text/plain": [
              "<Figure size 640x480 with 1 Axes>"
            ]
          },
          "metadata": {},
          "output_type": "display_data"
        },
        {
          "data": {
            "image/png": "[encoded data removed]",
            "text/plain": [
              "<Figure size 640x480 with 1 Axes>"
            ]
          },
          "metadata": {},
          "output_type": "display_data"
        },
        {
          "data": {
            "image/png": "[encoded data removed]",
            "text/plain": [
              "<Figure size 640x480 with 1 Axes>"
            ]
          },
          "metadata": {},
          "output_type": "display_data"
        },
        {
          "data": {
            "image/png": "[encoded data removed]",
            "text/plain": [
              "<Figure size 640x480 with 1 Axes>"
            ]
          },
          "metadata": {},
          "output_type": "display_data"
        }
      ],
      "source": [
        "np.random.seed(40)\n",
        "for rand_num in np.random.randint(0, len(X_train), 5):\n",
        "    plt.figure()\n",
        "    plt.imshow(X_train[rand_num]), plt.axis('off')\n",
        "    plt.title(labels_dict[Y_train[rand_num]])"
      ]
    },
    {
      "cell_type": "markdown",
      "metadata": {
        "id": "E0Xc5GrEuK6S"
      },
      "source": [
        "# 3. Data preprocessing"
      ]
    },
    {
      "cell_type": "markdown",
      "metadata": {
        "id": "QVEBNhkxuK6T"
      },
      "source": [
        "### Reshaping input data, and normalizing it"
      ]
    },
    {
      "cell_type": "markdown",
      "metadata": {
        "id": "t-DozS0luK6U"
      },
      "source": [
        "We will reshape the image data from 28x28 to 784x1, and normalize all values between 0 and 1."
      ]
    },
    {
      "cell_type": "code",
      "execution_count": null,
      "metadata": {
        "id": "UewQ7UI-uK6U"
      },
      "outputs": [],
      "source": [
        "X_train_reshaped = X_train.reshape(len(X_train), -1)\n",
        "X_test_reshaped = X_test.reshape(len(X_test), -1)\n",
        "\n",
        "X_train_norm = X_train_reshaped/255\n",
        "X_test_norm = X_test_reshaped/255"
      ]
    },
    {
      "cell_type": "code",
      "execution_count": null,
      "metadata": {
        "colab": {
          "base_uri": "https://localhost:8080/"
        },
        "id": "arPWbDwpuK6U",
        "outputId": "b2eb526a-6d71-41d7-bda6-b0296d40831f"
      },
      "outputs": [
        {
          "name": "stdout",
          "output_type": "stream",
          "text": [
            "Number of input features (image pixels) :  784\n",
            "Number of target classes (fashion categories) :  10\n"
          ]
        }
      ],
      "source": [
        "n_features = X_train_norm.shape[1]\n",
        "n_classes =  len(class_labels)\n",
        "\n",
        "print('Number of input features (image pixels) : ', n_features)\n",
        "print('Number of target classes (fashion categories) : ', n_classes)"
      ]
    },
    {
      "cell_type": "markdown",
      "metadata": {
        "id": "utw49hgFuK6V"
      },
      "source": [
        "### One-Hot transformation of Target Data"
      ]
    },
    {
      "cell_type": "code",
      "execution_count": null,
      "metadata": {
        "id": "_jjShsxguK6V"
      },
      "outputs": [],
      "source": [
        "Y_train_onehot = to_categorical(Y_train, num_classes = n_classes)\n",
        "Y_test_onehot = to_categorical(Y_test, num_classes = n_classes)"
      ]
    },
    {
      "cell_type": "markdown",
      "metadata": {
        "id": "Hi1GDIfZuK6V"
      },
      "source": [
        "### Creation of a Validation set"
      ]
    },
    {
      "cell_type": "markdown",
      "metadata": {
        "id": "wBNUINOiuK6V"
      },
      "source": [
        "We need to separate out a validation set from the training set, that is to be used while traing the network to keep an eye on overfitting ot underfitting."
      ]
    },
    {
      "cell_type": "code",
      "execution_count": null,
      "metadata": {
        "colab": {
          "base_uri": "https://localhost:8080/"
        },
        "id": "V3la89kwuK6W",
        "outputId": "c609521e-5d26-49dd-dd20-dbaede66eb85"
      },
      "outputs": [
        {
          "name": "stdout",
          "output_type": "stream",
          "text": [
            "Shape of data used for training, and shape of training targets : \n",
            "  (60000, 28, 28) , (60000,)\n",
            "Shape of data used for validation, and shape of validation targets: \n",
            "  (10000, 784) , (10000, 10)\n"
          ]
        }
      ],
      "source": [
        "X_train_final, X_valid, Y_train_final, Y_valid = train_test_split(X_train_norm, Y_train_onehot,\n",
        "                                                                  test_size=0.16666)\n",
        "\n",
        "print('Shape of data used for training, and shape of training targets : \\n ', X_train.shape, ',', Y_train.shape)\n",
        "print('Shape of data used for validation, and shape of validation targets: \\n ', X_valid.shape, ',', Y_valid.shape)"
      ]
    },
    {
      "cell_type": "markdown",
      "metadata": {
        "id": "dSkij3oSuK6W"
      },
      "source": [
        "# 4. Neural Network set-up"
      ]
    },
    {
      "cell_type": "markdown",
      "metadata": {
        "id": "lJNND3ksuK6W"
      },
      "source": [
        "We will use five dense layers. We will set 'bias' to false for now, since that will make the weight matrices easier to work with. The weights of the final dense layers (the one leading to the output nodes) will not be pruned. But first, let's create the model and train it."
      ]
    },
    {
      "cell_type": "code",
      "execution_count": null,
      "metadata": {
        "colab": {
          "base_uri": "https://localhost:8080/",
          "height": 361
        },
        "id": "3D_QkvZjuK6W",
        "outputId": "72860e38-f1bd-41cf-cc39-089c9b97e5d1"
      },
      "outputs": [
        {
          "name": "stderr",
          "output_type": "stream",
          "text": [
            "/usr/local/lib/python3.11/dist-packages/keras/src/layers/core/dense.py:87: UserWarning: Do not pass an `input_shape`/`input_dim` argument to a layer. When using Sequential models, prefer using an `Input(shape)` object as the first layer in the model instead.\n",
            "  super().__init__(activity_regularizer=activity_regularizer, **kwargs)\n"
          ]
        },
        {
          "data": {
            "text/html": [
              "<pre style=\"white-space:pre;overflow-x:auto;line-height:normal;font-family:Menlo,'DejaVu Sans Mono',consolas,'Courier New',monospace\"><span style=\"font-weight: bold\">Model: \"sequential\"</span>\n",
              "</pre>\n"
            ],
            "text/plain": [
              "\u001b[1mModel: \"sequential\"\u001b[0m\n"
            ]
          },
          "metadata": {},
          "output_type": "display_data"
        },
        {
          "data": {
            "text/html": [
              "<pre style=\"white-space:pre;overflow-x:auto;line-height:normal;font-family:Menlo,'DejaVu Sans Mono',consolas,'Courier New',monospace\">┏━━━━━━━━━━━━━━━━━━━━━━━━━━━━━━━━━━━━━━┳━━━━━━━━━━━━━━━━━━━━━━━━━━━━━┳━━━━━━━━━━━━━━━━━┓\n",
              "┃<span style=\"font-weight: bold\"> Layer (type)                         </span>┃<span style=\"font-weight: bold\"> Output Shape                </span>┃<span style=\"font-weight: bold\">         Param # </span>┃\n",
              "┡━━━━━━━━━━━━━━━━━━━━━━━━━━━━━━━━━━━━━━╇━━━━━━━━━━━━━━━━━━━━━━━━━━━━━╇━━━━━━━━━━━━━━━━━┩\n",
              "│ dense (<span style=\"color: #0087ff; text-decoration-color: #0087ff\">Dense</span>)                        │ (<span style=\"color: #00d7ff; text-decoration-color: #00d7ff\">None</span>, <span style=\"color: #00af00; text-decoration-color: #00af00\">1000</span>)                │         <span style=\"color: #00af00; text-decoration-color: #00af00\">784,000</span> │\n",
              "├──────────────────────────────────────┼─────────────────────────────┼─────────────────┤\n",
              "│ dense_1 (<span style=\"color: #0087ff; text-decoration-color: #0087ff\">Dense</span>)                      │ (<span style=\"color: #00d7ff; text-decoration-color: #00d7ff\">None</span>, <span style=\"color: #00af00; text-decoration-color: #00af00\">1000</span>)                │       <span style=\"color: #00af00; text-decoration-color: #00af00\">1,000,000</span> │\n",
              "├──────────────────────────────────────┼─────────────────────────────┼─────────────────┤\n",
              "│ dense_2 (<span style=\"color: #0087ff; text-decoration-color: #0087ff\">Dense</span>)                      │ (<span style=\"color: #00d7ff; text-decoration-color: #00d7ff\">None</span>, <span style=\"color: #00af00; text-decoration-color: #00af00\">500</span>)                 │         <span style=\"color: #00af00; text-decoration-color: #00af00\">500,000</span> │\n",
              "├──────────────────────────────────────┼─────────────────────────────┼─────────────────┤\n",
              "│ dense_3 (<span style=\"color: #0087ff; text-decoration-color: #0087ff\">Dense</span>)                      │ (<span style=\"color: #00d7ff; text-decoration-color: #00d7ff\">None</span>, <span style=\"color: #00af00; text-decoration-color: #00af00\">200</span>)                 │         <span style=\"color: #00af00; text-decoration-color: #00af00\">100,000</span> │\n",
              "├──────────────────────────────────────┼─────────────────────────────┼─────────────────┤\n",
              "│ dense_4 (<span style=\"color: #0087ff; text-decoration-color: #0087ff\">Dense</span>)                      │ (<span style=\"color: #00d7ff; text-decoration-color: #00d7ff\">None</span>, <span style=\"color: #00af00; text-decoration-color: #00af00\">10</span>)                  │           <span style=\"color: #00af00; text-decoration-color: #00af00\">2,000</span> │\n",
              "└──────────────────────────────────────┴─────────────────────────────┴─────────────────┘\n",
              "</pre>\n"
            ],
            "text/plain": [
              "┏━━━━━━━━━━━━━━━━━━━━━━━━━━━━━━━━━━━━━━┳━━━━━━━━━━━━━━━━━━━━━━━━━━━━━┳━━━━━━━━━━━━━━━━━┓\n",
              "┃\u001b[1m \u001b[0m\u001b[1mLayer (type)                        \u001b[0m\u001b[1m \u001b[0m┃\u001b[1m \u001b[0m\u001b[1mOutput Shape               \u001b[0m\u001b[1m \u001b[0m┃\u001b[1m \u001b[0m\u001b[1m        Param #\u001b[0m\u001b[1m \u001b[0m┃\n",
              "┡━━━━━━━━━━━━━━━━━━━━━━━━━━━━━━━━━━━━━━╇━━━━━━━━━━━━━━━━━━━━━━━━━━━━━╇━━━━━━━━━━━━━━━━━┩\n",
              "│ dense (\u001b[38;5;33mDense\u001b[0m)                        │ (\u001b[38;5;45mNone\u001b[0m, \u001b[38;5;34m1000\u001b[0m)                │         \u001b[38;5;34m784,000\u001b[0m │\n",
              "├──────────────────────────────────────┼─────────────────────────────┼─────────────────┤\n",
              "│ dense_1 (\u001b[38;5;33mDense\u001b[0m)                      │ (\u001b[38;5;45mNone\u001b[0m, \u001b[38;5;34m1000\u001b[0m)                │       \u001b[38;5;34m1,000,000\u001b[0m │\n",
              "├──────────────────────────────────────┼─────────────────────────────┼─────────────────┤\n",
              "│ dense_2 (\u001b[38;5;33mDense\u001b[0m)                      │ (\u001b[38;5;45mNone\u001b[0m, \u001b[38;5;34m500\u001b[0m)                 │         \u001b[38;5;34m500,000\u001b[0m │\n",
              "├──────────────────────────────────────┼─────────────────────────────┼─────────────────┤\n",
              "│ dense_3 (\u001b[38;5;33mDense\u001b[0m)                      │ (\u001b[38;5;45mNone\u001b[0m, \u001b[38;5;34m200\u001b[0m)                 │         \u001b[38;5;34m100,000\u001b[0m │\n",
              "├──────────────────────────────────────┼─────────────────────────────┼─────────────────┤\n",
              "│ dense_4 (\u001b[38;5;33mDense\u001b[0m)                      │ (\u001b[38;5;45mNone\u001b[0m, \u001b[38;5;34m10\u001b[0m)                  │           \u001b[38;5;34m2,000\u001b[0m │\n",
              "└──────────────────────────────────────┴─────────────────────────────┴─────────────────┘\n"
            ]
          },
          "metadata": {},
          "output_type": "display_data"
        },
        {
          "data": {
            "text/html": [
              "<pre style=\"white-space:pre;overflow-x:auto;line-height:normal;font-family:Menlo,'DejaVu Sans Mono',consolas,'Courier New',monospace\"><span style=\"font-weight: bold\"> Total params: </span><span style=\"color: #00af00; text-decoration-color: #00af00\">2,386,000</span> (9.10 MB)\n",
              "</pre>\n"
            ],
            "text/plain": [
              "\u001b[1m Total params: \u001b[0m\u001b[38;5;34m2,386,000\u001b[0m (9.10 MB)\n"
            ]
          },
          "metadata": {},
          "output_type": "display_data"
        },
        {
          "data": {
            "text/html": [
              "<pre style=\"white-space:pre;overflow-x:auto;line-height:normal;font-family:Menlo,'DejaVu Sans Mono',consolas,'Courier New',monospace\"><span style=\"font-weight: bold\"> Trainable params: </span><span style=\"color: #00af00; text-decoration-color: #00af00\">2,386,000</span> (9.10 MB)\n",
              "</pre>\n"
            ],
            "text/plain": [
              "\u001b[1m Trainable params: \u001b[0m\u001b[38;5;34m2,386,000\u001b[0m (9.10 MB)\n"
            ]
          },
          "metadata": {},
          "output_type": "display_data"
        },
        {
          "data": {
            "text/html": [
              "<pre style=\"white-space:pre;overflow-x:auto;line-height:normal;font-family:Menlo,'DejaVu Sans Mono',consolas,'Courier New',monospace\"><span style=\"font-weight: bold\"> Non-trainable params: </span><span style=\"color: #00af00; text-decoration-color: #00af00\">0</span> (0.00 B)\n",
              "</pre>\n"
            ],
            "text/plain": [
              "\u001b[1m Non-trainable params: \u001b[0m\u001b[38;5;34m0\u001b[0m (0.00 B)\n"
            ]
          },
          "metadata": {},
          "output_type": "display_data"
        }
      ],
      "source": [
        "model = Sequential()\n",
        "model.add(Dense(1000, input_dim = n_features, activation='relu', use_bias=False))\n",
        "model.add(Dense(1000, activation='relu', use_bias=False))\n",
        "model.add(Dense(500, activation='relu', use_bias=False))\n",
        "model.add(Dense(200, activation='relu', use_bias=False))\n",
        "model.add(Dense(n_classes, activation='softmax', use_bias=False))\n",
        "model.compile(loss='categorical_crossentropy', optimizer=Adam(0.0001), metrics=['accuracy'])\n",
        "\n",
        "model.summary()"
      ]
    },
    {
      "cell_type": "markdown",
      "metadata": {
        "id": "7LbmcFPLuK6X"
      },
      "source": [
        "### Saving the model while it trains"
      ]
    },
    {
      "cell_type": "markdown",
      "metadata": {
        "id": "y5CAvhTZuK6X"
      },
      "source": [
        "By using 'Callback' and 'ModelCheckpoint'utilities of Keras, we can save the model with the best weights. By 'best', I mean the ones that gave the best performance over the validation set while training. It checks if the performance of model with updated weights after every epoch is better than the performance of the saved model."
      ]
    },
    {
      "cell_type": "code",
      "execution_count": null,
      "metadata": {
        "id": "CnamiIY7uK6X"
      },
      "outputs": [],
      "source": [
        "save_at = \"model.keras\"\n",
        "save_best = ModelCheckpoint (save_at, monitor='val_accuracy', verbose=0,\n",
        "                             save_best_only=True, save_weights_only=False, mode='max')"
      ]
    },
    {
      "cell_type": "markdown",
      "metadata": {
        "id": "7AponwM1uK6X"
      },
      "source": [
        "### Training of Neural Network"
      ]
    },
    {
      "cell_type": "code",
      "execution_count": null,
      "metadata": {
        "colab": {
          "base_uri": "https://localhost:8080/",
          "height": 915
        },
        "id": "0jWCftyluK6Y",
        "outputId": "549ee69b-6500-437f-8ef3-ddfad4c29387"
      },
      "outputs": [
        {
          "name": "stdout",
          "output_type": "stream",
          "text": [
            "Epoch 1/12\n",
            "\u001b[1m2500/2500\u001b[0m \u001b[32m━━━━━━━━━━━━━━━━━━━━\u001b[0m\u001b[37m\u001b[0m \u001b[1m35s\u001b[0m 14ms/step - accuracy: 0.7762 - loss: 0.6523 - val_accuracy: 0.8635 - val_loss: 0.3867\n",
            "Epoch 2/12\n",
            "\u001b[1m2500/2500\u001b[0m \u001b[32m━━━━━━━━━━━━━━━━━━━━\u001b[0m\u001b[37m\u001b[0m \u001b[1m42s\u001b[0m 14ms/step - accuracy: 0.8713 - loss: 0.3575 - val_accuracy: 0.8800 - val_loss: 0.3324\n",
            "Epoch 3/12\n",
            "\u001b[1m2500/2500\u001b[0m \u001b[32m━━━━━━━━━━━━━━━━━━━━\u001b[0m\u001b[37m\u001b[0m \u001b[1m37s\u001b[0m 13ms/step - accuracy: 0.8852 - loss: 0.3113 - val_accuracy: 0.8853 - val_loss: 0.3137\n",
            "Epoch 4/12\n",
            "\u001b[1m2500/2500\u001b[0m \u001b[32m━━━━━━━━━━━━━━━━━━━━\u001b[0m\u001b[37m\u001b[0m \u001b[1m32s\u001b[0m 13ms/step - accuracy: 0.8959 - loss: 0.2794 - val_accuracy: 0.8805 - val_loss: 0.3221\n",
            "Epoch 5/12\n",
            "\u001b[1m2500/2500\u001b[0m \u001b[32m━━━━━━━━━━━━━━━━━━━━\u001b[0m\u001b[37m\u001b[0m \u001b[1m39s\u001b[0m 12ms/step - accuracy: 0.9064 - loss: 0.2523 - val_accuracy: 0.8862 - val_loss: 0.3120\n",
            "Epoch 6/12\n",
            "\u001b[1m2500/2500\u001b[0m \u001b[32m━━━━━━━━━━━━━━━━━━━━\u001b[0m\u001b[37m\u001b[0m \u001b[1m41s\u001b[0m 12ms/step - accuracy: 0.9105 - loss: 0.2377 - val_accuracy: 0.8804 - val_loss: 0.3315\n",
            "Epoch 7/12\n",
            "\u001b[1m2500/2500\u001b[0m \u001b[32m━━━━━━━━━━━━━━━━━━━━\u001b[0m\u001b[37m\u001b[0m \u001b[1m40s\u001b[0m 12ms/step - accuracy: 0.9168 - loss: 0.2191 - val_accuracy: 0.8971 - val_loss: 0.3050\n",
            "Epoch 8/12\n",
            "\u001b[1m2500/2500\u001b[0m \u001b[32m━━━━━━━━━━━━━━━━━━━━\u001b[0m\u001b[37m\u001b[0m \u001b[1m41s\u001b[0m 12ms/step - accuracy: 0.9247 - loss: 0.2013 - val_accuracy: 0.8791 - val_loss: 0.3487\n",
            "Epoch 9/12\n",
            "\u001b[1m2500/2500\u001b[0m \u001b[32m━━━━━━━━━━━━━━━━━━━━\u001b[0m\u001b[37m\u001b[0m \u001b[1m31s\u001b[0m 12ms/step - accuracy: 0.9290 - loss: 0.1895 - val_accuracy: 0.8944 - val_loss: 0.3031\n",
            "Epoch 10/12\n",
            "\u001b[1m2500/2500\u001b[0m \u001b[32m━━━━━━━━━━━━━━━━━━━━\u001b[0m\u001b[37m\u001b[0m \u001b[1m31s\u001b[0m 12ms/step - accuracy: 0.9317 - loss: 0.1789 - val_accuracy: 0.8946 - val_loss: 0.3171\n",
            "Epoch 11/12\n",
            "\u001b[1m2500/2500\u001b[0m \u001b[32m━━━━━━━━━━━━━━━━━━━━\u001b[0m\u001b[37m\u001b[0m \u001b[1m42s\u001b[0m 13ms/step - accuracy: 0.9376 - loss: 0.1664 - val_accuracy: 0.8878 - val_loss: 0.3528\n",
            "Epoch 12/12\n",
            "\u001b[1m2500/2500\u001b[0m \u001b[32m━━━━━━━━━━━━━━━━━━━━\u001b[0m\u001b[37m\u001b[0m \u001b[1m42s\u001b[0m 13ms/step - accuracy: 0.9399 - loss: 0.1589 - val_accuracy: 0.8984 - val_loss: 0.3148\n"
          ]
        },
        {
          "data": {
            "image/png": "[encoded data removed]",
            "text/plain": [
              "<Figure size 600x500 with 1 Axes>"
            ]
          },
          "metadata": {},
          "output_type": "display_data"
        }
      ],
      "source": [
        "history = model.fit( X_train_final, Y_train_final,\n",
        "                    epochs = 12, batch_size = 20,\n",
        "                    callbacks=[save_best], verbose=1,\n",
        "                    validation_data = (X_valid, Y_valid) )\n",
        "\n",
        "plt.figure(figsize=(6, 5))\n",
        "plt.plot(history.history['accuracy'], color='r')\n",
        "plt.plot(history.history['val_accuracy'], color='b')\n",
        "plt.title('Model Accuracy', weight='bold', fontsize=16)\n",
        "plt.ylabel('accuracy', weight='bold', fontsize=14)\n",
        "plt.xlabel('epoch', weight='bold', fontsize=14)\n",
        "plt.ylim(0.5, 1)\n",
        "plt.xticks(weight='bold', fontsize=12)\n",
        "plt.yticks(weight='bold', fontsize=12)\n",
        "plt.legend(['train', 'val'], loc='upper left', prop={'size': 14})\n",
        "plt.grid(color = 'y', linewidth='0.5')\n",
        "plt.show()"
      ]
    },
    {
      "cell_type": "markdown",
      "metadata": {
        "id": "vkjUe55suK6Y"
      },
      "source": [
        "### Testing\n",
        "Let's check the model's score on the test set"
      ]
    },
    {
      "cell_type": "code",
      "execution_count": null,
      "metadata": {
        "colab": {
          "base_uri": "https://localhost:8080/"
        },
        "id": "pYiNf9KwuK6Y",
        "outputId": "87fa0884-6d93-4a1b-95a9-05b8c71e76a5"
      },
      "outputs": [
        {
          "name": "stdout",
          "output_type": "stream",
          "text": [
            "Accuracy over the test set: \n",
            "  89.07 %\n"
          ]
        }
      ],
      "source": [
        "score = model.evaluate(X_test_norm, Y_test_onehot, verbose=0)\n",
        "print('Accuracy over the test set: \\n ', round((score[1]*100), 2), '%')"
      ]
    },
    {
      "cell_type": "markdown",
      "metadata": {
        "id": "vlfe8SNcuK6Y"
      },
      "source": [
        "We will now plot 5 images at random from test set, but with titles as classified by the model, with every correct classification titled in 'green' color, and every incorrect classification titles in 'red' color."
      ]
    },
    {
      "cell_type": "code",
      "execution_count": null,
      "metadata": {
        "colab": {
          "base_uri": "https://localhost:8080/",
          "height": 1000
        },
        "id": "bdGThLknuK6Z",
        "outputId": "87b8ac88-76d0-420b-a2c2-454b20c34508"
      },
      "outputs": [
        {
          "name": "stdout",
          "output_type": "stream",
          "text": [
            "\u001b[1m313/313\u001b[0m \u001b[32m━━━━━━━━━━━━━━━━━━━━\u001b[0m\u001b[37m\u001b[0m \u001b[1m1s\u001b[0m 4ms/step\n"
          ]
        },
        {
          "data": {
            "image/png": "[encoded data removed]",
            "text/plain": [
              "<Figure size 640x480 with 1 Axes>"
            ]
          },
          "metadata": {},
          "output_type": "display_data"
        },
        {
          "data": {
            "image/png": "[encoded data removed]",
            "text/plain": [
              "<Figure size 640x480 with 1 Axes>"
            ]
          },
          "metadata": {},
          "output_type": "display_data"
        },
        {
          "data": {
            "image/png": "[encoded data removed]",
            "text/plain": [
              "<Figure size 640x480 with 1 Axes>"
            ]
          },
          "metadata": {},
          "output_type": "display_data"
        },
        {
          "data": {
            "image/png": "[encoded data removed]",
            "text/plain": [
              "<Figure size 640x480 with 1 Axes>"
            ]
          },
          "metadata": {},
          "output_type": "display_data"
        },
        {
          "data": {
            "image/png": "[encoded data removed]",
            "text/plain": [
              "<Figure size 640x480 with 1 Axes>"
            ]
          },
          "metadata": {},
          "output_type": "display_data"
        }
      ],
      "source": [
        "Y_pred = np.round(model.predict(X_test_norm))\n",
        "\n",
        "np.random.seed(50)\n",
        "for rand_num in np.random.randint(0, len(Y_test_onehot), 5):\n",
        "    plt.figure()\n",
        "    plt.imshow(X_test[rand_num]), plt.axis('off')\n",
        "    if np.where(Y_pred[rand_num] == 1)[0].sum() == np.where(Y_test_onehot[rand_num] == 1)[0].sum():\n",
        "        plt.title(labels_dict[np.where(Y_pred[rand_num] == 1)[0].sum()], color='g')\n",
        "    else :\n",
        "        plt.title(labels_dict[np.where(Y_pred[rand_num] == 1)[0].sum()], color='r')"
      ]
    },
    {
      "cell_type": "markdown",
      "metadata": {
        "id": "2m_Xn5V4uK6Z"
      },
      "source": [
        "# 5. Pruning Strategy"
      ]
    },
    {
      "cell_type": "markdown",
      "metadata": {
        "id": "wDgKp6SOuK6a"
      },
      "source": [
        "The strategy is simple. The weights of the network will be accessed layer wise. Each layer has two weight matrices - first one for link weights, and the second one for bias weights of every neuron of that layer. Since we are not using biases, we only have to worry about one matrix per layer for now.\n",
        "\n",
        "For weight pruning, we will create a dictionary of the weights, with every key being a three valued tuple. The first value having the layer number, second and third values having the row and column number from that layer's weight matrix.\n",
        "\n",
        "Each row number is in fact the neuron number from previous layer, and each column number is the neuron number of that particular layer. So, for neuron pruning, unlike weight pruining where we want to create a weights dictionary, here we will have a dictionary that contains column arrays. The key will be a two valued tuple. First value representing the layer number, and the second one representing the column number.\n",
        "\n",
        "We will sort the weights in the weights dictionary according to their absolute values, and the weight vectors in the neuron dictionary according to their L2 norm.\n",
        "\n",
        "We will then map the weights (or columns) from the sorted dictionaries on to the trained neural network and set the weights (or columns) to zero to obtain our compresed Neural Networks (with the set pruing level)."
      ]
    },
    {
      "cell_type": "code",
      "execution_count": null,
      "metadata": {
        "colab": {
          "base_uri": "https://localhost:8080/"
        },
        "id": "ZGR_ZdNUuK6a",
        "outputId": "bb31378a-2552-4e1f-b7c8-7f1a37f42327"
      },
      "outputs": [
        {
          "data": {
            "text/plain": [
              "[<Dense name=dense, built=True>,\n",
              " <Dense name=dense_1, built=True>,\n",
              " <Dense name=dense_2, built=True>,\n",
              " <Dense name=dense_3, built=True>,\n",
              " <Dense name=dense_4, built=True>]"
            ]
          },
          "execution_count": 16,
          "metadata": {},
          "output_type": "execute_result"
        }
      ],
      "source": [
        "trained_model = load_model(\"model.keras\")\n",
        "\n",
        "trained_model.layers"
      ]
    },
    {
      "cell_type": "code",
      "execution_count": null,
      "metadata": {
        "colab": {
          "base_uri": "https://localhost:8080/"
        },
        "id": "XtSu1qh0uK6a",
        "outputId": "e301f309-d1ea-424f-95f1-04ea38a89d0e"
      },
      "outputs": [
        {
          "name": "stdout",
          "output_type": "stream",
          "text": [
            "5\n"
          ]
        }
      ],
      "source": [
        "total_no_layers = len(trained_model.layers)\n",
        "print(total_no_layers)"
      ]
    },
    {
      "cell_type": "markdown",
      "metadata": {
        "id": "diYG3yQduK6h"
      },
      "source": [
        "We will start with zero pruning and graudally increase the level of pruning up unit 99%, and keep checking the pruned model's performance after every increase."
      ]
    },
    {
      "cell_type": "code",
      "execution_count": null,
      "metadata": {
        "id": "kBeh8IteuK6i"
      },
      "outputs": [],
      "source": [
        "#Pruning percentages\n",
        "\n",
        "K = [0, 25, 50, 60, 70, 80, 90, 95, 97, 99]"
      ]
    },
    {
      "cell_type": "markdown",
      "metadata": {
        "id": "VvY0I6AfuK6i"
      },
      "source": [
        "# 6. Weight Pruning"
      ]
    },
    {
      "cell_type": "code",
      "execution_count": null,
      "metadata": {
        "id": "G1cQ-_zbuK6j"
      },
      "outputs": [],
      "source": [
        "all_weights = {}\n",
        "\n",
        "for layer_no in range(total_no_layers - 1):         #All except the final layer                                                                          #only the first four dense layers are to be pruned\n",
        "    layer_weights = (pd.DataFrame(trained_model.layers[layer_no].get_weights()[0]).stack()).to_dict()\n",
        "    layer_weights = { (layer_no, k[0], k[1]): v for k, v in layer_weights.items() }\n",
        "    all_weights.update(layer_weights)"
      ]
    },
    {
      "cell_type": "code",
      "execution_count": null,
      "metadata": {
        "id": "fyoWF8CruK6j"
      },
      "outputs": [],
      "source": [
        "all_weights_sorted = {k: v for k, v in sorted(all_weights.items(), key=lambda item: abs(item[1]))}"
      ]
    },
    {
      "cell_type": "code",
      "execution_count": null,
      "metadata": {
        "colab": {
          "base_uri": "https://localhost:8080/"
        },
        "id": "Tycm3N_CuK6j",
        "outputId": "f4edcf2b-a203-4575-da07-ff4443eb1c74"
      },
      "outputs": [
        {
          "data": {
            "text/plain": [
              "2384000"
            ]
          },
          "execution_count": 21,
          "metadata": {},
          "output_type": "execute_result"
        }
      ],
      "source": [
        "total_no_weights = len(all_weights_sorted)\n",
        "total_no_weights"
      ]
    },
    {
      "cell_type": "code",
      "execution_count": null,
      "metadata": {
        "id": "oVnfskxAuK6k"
      },
      "outputs": [],
      "source": [
        "weight_pruning_scores = []\n",
        "\n",
        "for pruning_percent in K:\n",
        "\n",
        "    new_model = load_model(\"model.keras\")\n",
        "    new_weights = trained_model.get_weights().copy()\n",
        "\n",
        "    prune_fraction = pruning_percent/100\n",
        "    number_of_weights_to_be_pruned = int(prune_fraction*total_no_weights)\n",
        "    weights_to_be_pruned = {k: all_weights_sorted[k] for k in list(all_weights_sorted)[ :  number_of_weights_to_be_pruned]}\n",
        "\n",
        "    for k, v in weights_to_be_pruned.items():\n",
        "        new_weights[k[0]][k[1], k[2]] = 0\n",
        "\n",
        "    for layer_no in range(total_no_layers - 1) :\n",
        "        new_layer_weights = new_weights[layer_no].reshape(1, new_weights[layer_no].shape[0], new_weights[layer_no].shape[1])\n",
        "        new_model.layers[layer_no].set_weights(new_layer_weights)\n",
        "\n",
        "    new_score  = new_model.evaluate(X_test_norm, Y_test_onehot, verbose=0)\n",
        "    weight_pruning_scores .append(new_score[1])"
      ]
    },
    {
      "cell_type": "markdown",
      "metadata": {
        "id": "eT4vaJoRuK6k"
      },
      "source": [
        "# 7. Neuron Pruning"
      ]
    },
    {
      "cell_type": "code",
      "execution_count": null,
      "metadata": {
        "id": "KOjSzDdzuK6k"
      },
      "outputs": [],
      "source": [
        "all_neurons = {}\n",
        "\n",
        "for layer_no in range(total_no_layers - 1):\n",
        "\n",
        "    layer_neurons = {}\n",
        "    layer_neurons_df = pd.DataFrame(trained_model.layers[layer_no].get_weights()[0])\n",
        "\n",
        "    for i in range(len(layer_neurons_df.columns)):\n",
        "        layer_neurons.update({ i : np.array( layer_neurons_df.iloc[:,i] ) })\n",
        "\n",
        "    layer_neurons = { (layer_no, k): v for k, v in layer_neurons.items() }\n",
        "    all_neurons.update(layer_neurons)"
      ]
    },
    {
      "cell_type": "code",
      "execution_count": null,
      "metadata": {
        "id": "5aa4Q4HxuK6l"
      },
      "outputs": [],
      "source": [
        "all_neurons_sorted = {k: v for k, v in sorted(all_neurons.items(), key=lambda item: np.linalg.norm(item[1], ord=2, axis=0))}"
      ]
    },
    {
      "cell_type": "code",
      "execution_count": null,
      "metadata": {
        "colab": {
          "base_uri": "https://localhost:8080/"
        },
        "id": "em-nNhzmuK6l",
        "outputId": "9fb77282-f115-4c91-e389-8fed1169e9e1"
      },
      "outputs": [
        {
          "data": {
            "text/plain": [
              "2700"
            ]
          },
          "execution_count": 25,
          "metadata": {},
          "output_type": "execute_result"
        }
      ],
      "source": [
        "total_no_neurons = len(all_neurons_sorted)\n",
        "total_no_neurons"
      ]
    },
    {
      "cell_type": "code",
      "execution_count": null,
      "metadata": {
        "id": "GJrBtTIwuK6l"
      },
      "outputs": [],
      "source": [
        "neuron_pruning_scores = []\n",
        "\n",
        "for pruning_percent in K:\n",
        "\n",
        "    new_model = load_model(\"model.keras\")\n",
        "    new_weights = trained_model.get_weights().copy()\n",
        "\n",
        "    prune_fraction = pruning_percent/100\n",
        "    number_of_neurons_to_be_pruned = int(prune_fraction*total_no_neurons)\n",
        "    neurons_to_be_pruned = {k: all_neurons_sorted[k] for k in list(all_neurons_sorted)[ : number_of_neurons_to_be_pruned]}\n",
        "\n",
        "    for k, v in neurons_to_be_pruned.items():\n",
        "        new_weights[k[0]][:, k[1]] = 0\n",
        "\n",
        "    for layer_no in range(total_no_layers - 1) :\n",
        "        new_layer_weights = new_weights[layer_no].reshape(1, new_weights[layer_no].shape[0], new_weights[layer_no].shape[1])\n",
        "        new_model.layers[layer_no].set_weights(new_layer_weights)\n",
        "\n",
        "    new_score  = new_model.evaluate(X_test_norm, Y_test_onehot, verbose=0)\n",
        "    neuron_pruning_scores.append(new_score[1])"
      ]
    },
    {
      "cell_type": "markdown",
      "metadata": {
        "id": "tSdoxIb_uK6l"
      },
      "source": [
        "# 8. Pruning Results"
      ]
    },
    {
      "cell_type": "code",
      "execution_count": null,
      "metadata": {
        "colab": {
          "base_uri": "https://localhost:8080/",
          "height": 421
        },
        "id": "Akrl3vcquK6p",
        "outputId": "d188f8b8-0d9f-4d29-a25a-c237b62bc578"
      },
      "outputs": [
        {
          "data": {
            "image/png": "[encoded data removed]",
            "text/plain": [
              "<Figure size 800x400 with 1 Axes>"
            ]
          },
          "metadata": {},
          "output_type": "display_data"
        }
      ],
      "source": [
        "plt.figure(figsize=(8, 4))\n",
        "plt.plot(pd.DataFrame(weight_pruning_scores).set_index(pd.Series(K), drop=True) , color='r')\n",
        "plt.plot(pd.DataFrame(neuron_pruning_scores).set_index(pd.Series(K), drop=True) , color='b')\n",
        "plt.title('Effect of Pruning on accuracy', weight='bold', fontsize=16)\n",
        "plt.ylabel('Score', weight='bold', fontsize=14)\n",
        "plt.xlabel('Pruning Percentage (K)', weight='bold', fontsize=14)\n",
        "plt.xticks(weight='bold', fontsize=12)\n",
        "plt.yticks(weight='bold', fontsize=12)\n",
        "plt.legend(['Weight Pruning', 'Neuron Pruning'], loc='best', prop={'size': 14})\n",
        "plt.grid(color = 'y', linewidth='0.5')\n",
        "plt.show()"
      ]
    },
    {
      "cell_type": "markdown",
      "metadata": {
        "id": "QDkNXMfpuK6q"
      },
      "source": [
        "# 9. Observations\n",
        "\n",
        "We are able to prune upto 60% of the weights with a tolerable dip in accuracy.\n",
        "\n",
        "We are able to prune upto 15% of the neurons with a tolerable dip in accuracy.\n",
        "\n",
        "For weight pruining as high a 80%, the accuracy of the pruned model is still decent.\n",
        "\n",
        "This suggests that Neural Networks are highly robust. Even if a large protion of the less significant weights are removed, the other significant weights are still able to generate a good enough result."
      ]
    },
    {
      "cell_type": "markdown",
      "metadata": {
        "id": "qIFiuEqm_Vi4"
      },
      "source": [
        "# Visualizing Pruned Neurons\n",
        "Extend the code to visualize which neurons were pruned using matplotlib.\n",
        "Before pruning, plot a heatmap of neuron activations.\n",
        "After pruning, plot another heatmap showing removed neurons as blacked-out regions."
      ]
    },
    {
      "cell_type": "code",
      "execution_count": null,
      "metadata": {
        "id": "zOnMRhky_Vi5"
      },
      "outputs": [],
      "source": []
    }
  ],
  "metadata": {
    "colab": {
      "provenance": [],
      "include_colab_link": true
    },
    "kernelspec": {
      "display_name": "Python 3 (ipykernel)",
      "language": "python",
      "name": "python3"
    },
    "language_info": {
      "codemirror_mode": {
        "name": "ipython",
        "version": 3
      },
      "file_extension": ".py",
      "mimetype": "text/x-python",
      "name": "python",
      "nbconvert_exporter": "python",
      "pygments_lexer": "ipython3",
      "version": "3.8.20"
    }
  },
  "nbformat": 4,
  "nbformat_minor": 0
}